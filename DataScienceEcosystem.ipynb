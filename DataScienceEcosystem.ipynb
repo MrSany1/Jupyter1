{
 "cells": [
  {
   "cell_type": "markdown",
   "id": "224cb92b-1924-4512-8147-19376f7792d3",
   "metadata": {},
   "source": [
    "# Data Science Tools and Ecosystem"
   ]
  },
  {
   "cell_type": "markdown",
   "id": "d5c24f8a-5198-45c6-a2d3-b95e077d8acf",
   "metadata": {},
   "source": [
    "In this notebook, Data Science Tools and Ecosystem are summarized."
   ]
  },
  {
   "cell_type": "markdown",
   "id": "6809dc7f-029a-4986-ac02-e863e2400677",
   "metadata": {},
   "source": [
    "Some of the popular languages that Data Scientists use are:\n",
    "1.Python\n",
    "2.R language\n",
    "3.Java"
   ]
  },
  {
   "cell_type": "markdown",
   "id": "d2100f35-903b-4a64-8506-9a2a7401c7d2",
   "metadata": {},
   "source": [
    "Some of the commonly used libraries used by Data Scientists include:\n",
    "1.Pandas\n",
    "2.NumPy\n",
    "3.SciPy\n",
    "4.Keras"
   ]
  },
  {
   "cell_type": "markdown",
   "id": "a6fbdece-59ff-4c47-b967-6dca3cfcc4ad",
   "metadata": {},
   "source": [
    "|Data Science Tools|\n",
    ":------------------|\n",
    "|1.Jupyter Notebook\n",
    "|2.Tensor Flow|\n",
    "|3.MATLAB|"
   ]
  },
  {
   "cell_type": "markdown",
   "id": "55352635-4036-428a-a059-d382236d8e1a",
   "metadata": {},
   "source": [
    "### Below are a few examples of evaluating arithmetic expressions in Python"
   ]
  },
  {
   "cell_type": "markdown",
   "id": "3627cd6f-1c1b-42d9-8067-64bdfb9b90e4",
   "metadata": {},
   "source": [
    "### Below are a few examples of evaluating arithmetic expressions in Python"
   ]
  },
  {
   "cell_type": "code",
   "execution_count": 1,
   "id": "395bc363-6f70-4e19-aecd-8637b36069fc",
   "metadata": {
    "tags": []
   },
   "outputs": [
    {
     "data": {
      "text/plain": [
       "17"
      ]
     },
     "execution_count": 1,
     "metadata": {},
     "output_type": "execute_result"
    }
   ],
   "source": [
    "# This a simple arithmetic expression to mutiply then add integers\n",
    "(3*4)+5"
   ]
  },
  {
   "cell_type": "code",
   "execution_count": 2,
   "id": "a88cea8e-ec59-42ba-a0e1-96d8043d5b52",
   "metadata": {
    "tags": []
   },
   "outputs": [
    {
     "name": "stdout",
     "output_type": "stream",
     "text": [
      "3.3333333333333335\n"
     ]
    }
   ],
   "source": [
    "# This will convert 200 minutes to hours by dividing by 60\n",
    "x = 200\n",
    "y = 60\n",
    "z = 200/60\n",
    "print(z)\n"
   ]
  },
  {
   "cell_type": "code",
   "execution_count": null,
   "id": "47c061a4-44a2-486d-95c4-9019bd9e8b5c",
   "metadata": {},
   "outputs": [],
   "source": []
  },
  {
   "cell_type": "markdown",
   "id": "8b62e610-bf57-4fc7-ab84-add6ca6d9bbd",
   "metadata": {},
   "source": [
    " **Objectives:**\n",
    "- Evaluating arithmetic operations in Python.\n",
    "- List commonly used data science tools.\n",
    "- List Creating a markdown cell.\n"
   ]
  },
  {
   "cell_type": "markdown",
   "id": "4d171d96-6590-401e-9a81-ad4aefa75b61",
   "metadata": {},
   "source": [
    " **Objectives:**\n",
    "- Evaluating arithmetic operations in Python.\n",
    "- List commonly used data science tools.\n",
    "- List Creating a markdown cell.\n"
   ]
  },
  {
   "cell_type": "markdown",
   "id": "1632aeca-ef36-4120-869e-837fec9f2b15",
   "metadata": {},
   "source": [
    "## Author\n",
    "Emmanuel Saaku Nyuah"
   ]
  },
  {
   "cell_type": "markdown",
   "id": "21603af9-1fc5-4dc1-9c27-107822f3a510",
   "metadata": {},
   "source": [
    "## Author\n",
    "Emmanuel Saaku Nyuah"
   ]
  }
 ],
 "metadata": {
  "kernelspec": {
   "display_name": "Python",
   "language": "python",
   "name": "conda-env-python-py"
  },
  "language_info": {
   "codemirror_mode": {
    "name": "ipython",
    "version": 3
   },
   "file_extension": ".py",
   "mimetype": "text/x-python",
   "name": "python",
   "nbconvert_exporter": "python",
   "pygments_lexer": "ipython3",
   "version": "3.7.12"
  }
 },
 "nbformat": 4,
 "nbformat_minor": 5
}
